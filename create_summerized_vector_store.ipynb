{
 "cells": [
  {
   "cell_type": "code",
   "execution_count": 2,
   "id": "fa829091",
   "metadata": {},
   "outputs": [],
   "source": [
    "# 기존에 이미 splitter를 사용해서 나뉘어진 document가 글자 수, 문단 등과 같은 기준으로 나누어져 있음, 긴 맥락을 가진 경우에는 그 전체 맥락을 파악하기 어려울 수 있음\n",
    "# 기존 벡터를 저장한 정보를 요약해서 추가로 벡터 디비에 저장\n",
    "from langchain_chroma import Chroma\n",
    "from langchain_openai import OpenAIEmbeddings, ChatOpenAI\n",
    "from langchain_core.documents import Document\n",
    "from langchain_core.prompts import ChatPromptTemplate\n",
    "from langchain_core.output_parsers import StrOutputParser\n",
    "from dotenv import load_dotenv\n",
    "load_dotenv()\n",
    "\n",
    "embeddings = OpenAIEmbeddings(model = 'text-embedding-3-large')\n",
    "vector_store = Chroma(\n",
    "    embedding_function=embeddings,\n",
    "    persist_directory='./house' , # 벡터 디비를 저장할 경로\n",
    "    collection_name='vector_db', # db name 같은거\n",
    ") \n",
    "\n",
    "llm = ChatOpenAI(model = 'gpt-4.1-nano')\n",
    "output_parser = StrOutputParser()\n",
    "prompt = ChatPromptTemplate.from_messages([\n",
    "    ('system', '당신은 주어진 문장에 대해서 한국어로 요약하는 전문가입니다.'),\n",
    "    ('user', '주어진 문서를 3문장으로 요약해주세요. 각 문장은 불릿 포인트 형식으로 작성해주세요. \\n\\n 주어진 문서 \\n{docs}')\n",
    "])\n",
    "\n",
    "chain = prompt | llm | output_parser\n",
    "retriever = vector_store.as_retriever()\n",
    "all_docs = vector_store.get()\n"
   ]
  }
 ],
 "metadata": {
  "kernelspec": {
   "display_name": "langchain_env",
   "language": "python",
   "name": "python3"
  },
  "language_info": {
   "codemirror_mode": {
    "name": "ipython",
    "version": 3
   },
   "file_extension": ".py",
   "mimetype": "text/x-python",
   "name": "python",
   "nbconvert_exporter": "python",
   "pygments_lexer": "ipython3",
   "version": "3.12.11"
  }
 },
 "nbformat": 4,
 "nbformat_minor": 5
}
